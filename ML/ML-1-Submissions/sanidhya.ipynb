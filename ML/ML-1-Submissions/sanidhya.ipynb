{
 "cells": [
  {
   "cell_type": "markdown",
   "metadata": {},
   "source": [
    "# ML-1 Assignment\n",
    "\n",
    "## Problem 1:\n",
    "### Task 1\n",
    "https://www.kaggle.com/code/sanidhyas3s/linear-regression-p1t1/notebook\n",
    " \n",
    "\n",
    "### Task 2\n",
    "https://www.kaggle.com/code/sanidhyas3s/polynomial-regression-p1t2/notebook\n",
    "\n",
    "## Problem 2:\n"
   ]
  },
  {
   "cell_type": "code",
   "execution_count": 8,
   "metadata": {},
   "outputs": [],
   "source": [
    "import numpy as np\n",
    "import pandas as pd\n",
    "from matplotlib import pyplot as pl\n",
    "from sklearn.linear_model import LogisticRegression as LR\n",
    "from sklearn.metrics import accuracy_score as acc\n",
    "import random"
   ]
  },
  {
   "cell_type": "markdown",
   "metadata": {},
   "source": [
    "A header row has been added to the datafiles manually."
   ]
  },
  {
   "cell_type": "code",
   "execution_count": 9,
   "metadata": {},
   "outputs": [
    {
     "data": {
      "text/html": [
       "<div>\n",
       "<style scoped>\n",
       "    .dataframe tbody tr th:only-of-type {\n",
       "        vertical-align: middle;\n",
       "    }\n",
       "\n",
       "    .dataframe tbody tr th {\n",
       "        vertical-align: top;\n",
       "    }\n",
       "\n",
       "    .dataframe thead th {\n",
       "        text-align: right;\n",
       "    }\n",
       "</style>\n",
       "<table border=\"1\" class=\"dataframe\">\n",
       "  <thead>\n",
       "    <tr style=\"text-align: right;\">\n",
       "      <th></th>\n",
       "      <th>x1</th>\n",
       "      <th>y1</th>\n",
       "      <th>x2</th>\n",
       "      <th>y2</th>\n",
       "      <th>x3</th>\n",
       "      <th>y3</th>\n",
       "      <th>x4</th>\n",
       "      <th>y4</th>\n",
       "      <th>x5</th>\n",
       "      <th>y5</th>\n",
       "      <th>x6</th>\n",
       "      <th>y6</th>\n",
       "      <th>x7</th>\n",
       "      <th>y7</th>\n",
       "      <th>x8</th>\n",
       "      <th>y8</th>\n",
       "      <th>digit</th>\n",
       "    </tr>\n",
       "  </thead>\n",
       "  <tbody>\n",
       "    <tr>\n",
       "      <th>0</th>\n",
       "      <td>47</td>\n",
       "      <td>100</td>\n",
       "      <td>27</td>\n",
       "      <td>81</td>\n",
       "      <td>57</td>\n",
       "      <td>37</td>\n",
       "      <td>26</td>\n",
       "      <td>0</td>\n",
       "      <td>0</td>\n",
       "      <td>23</td>\n",
       "      <td>56</td>\n",
       "      <td>53</td>\n",
       "      <td>100</td>\n",
       "      <td>90</td>\n",
       "      <td>40</td>\n",
       "      <td>98</td>\n",
       "      <td>8</td>\n",
       "    </tr>\n",
       "    <tr>\n",
       "      <th>1</th>\n",
       "      <td>0</td>\n",
       "      <td>89</td>\n",
       "      <td>27</td>\n",
       "      <td>100</td>\n",
       "      <td>42</td>\n",
       "      <td>75</td>\n",
       "      <td>29</td>\n",
       "      <td>45</td>\n",
       "      <td>15</td>\n",
       "      <td>15</td>\n",
       "      <td>37</td>\n",
       "      <td>0</td>\n",
       "      <td>69</td>\n",
       "      <td>2</td>\n",
       "      <td>100</td>\n",
       "      <td>6</td>\n",
       "      <td>2</td>\n",
       "    </tr>\n",
       "    <tr>\n",
       "      <th>2</th>\n",
       "      <td>0</td>\n",
       "      <td>57</td>\n",
       "      <td>31</td>\n",
       "      <td>68</td>\n",
       "      <td>72</td>\n",
       "      <td>90</td>\n",
       "      <td>100</td>\n",
       "      <td>100</td>\n",
       "      <td>76</td>\n",
       "      <td>75</td>\n",
       "      <td>50</td>\n",
       "      <td>51</td>\n",
       "      <td>28</td>\n",
       "      <td>25</td>\n",
       "      <td>16</td>\n",
       "      <td>0</td>\n",
       "      <td>1</td>\n",
       "    </tr>\n",
       "    <tr>\n",
       "      <th>3</th>\n",
       "      <td>0</td>\n",
       "      <td>100</td>\n",
       "      <td>7</td>\n",
       "      <td>92</td>\n",
       "      <td>5</td>\n",
       "      <td>68</td>\n",
       "      <td>19</td>\n",
       "      <td>45</td>\n",
       "      <td>86</td>\n",
       "      <td>34</td>\n",
       "      <td>100</td>\n",
       "      <td>45</td>\n",
       "      <td>74</td>\n",
       "      <td>23</td>\n",
       "      <td>67</td>\n",
       "      <td>0</td>\n",
       "      <td>4</td>\n",
       "    </tr>\n",
       "    <tr>\n",
       "      <th>4</th>\n",
       "      <td>0</td>\n",
       "      <td>67</td>\n",
       "      <td>49</td>\n",
       "      <td>83</td>\n",
       "      <td>100</td>\n",
       "      <td>100</td>\n",
       "      <td>81</td>\n",
       "      <td>80</td>\n",
       "      <td>60</td>\n",
       "      <td>60</td>\n",
       "      <td>40</td>\n",
       "      <td>40</td>\n",
       "      <td>33</td>\n",
       "      <td>20</td>\n",
       "      <td>47</td>\n",
       "      <td>0</td>\n",
       "      <td>1</td>\n",
       "    </tr>\n",
       "  </tbody>\n",
       "</table>\n",
       "</div>"
      ],
      "text/plain": [
       "    x1   y1  x2   y2   x3   y3   x4   y4  x5  y5   x6  y6   x7  y7   x8  y8  \\\n",
       "0   47  100  27   81   57   37   26    0   0  23   56  53  100  90   40  98   \n",
       "1    0   89  27  100   42   75   29   45  15  15   37   0   69   2  100   6   \n",
       "2    0   57  31   68   72   90  100  100  76  75   50  51   28  25   16   0   \n",
       "3    0  100   7   92    5   68   19   45  86  34  100  45   74  23   67   0   \n",
       "4    0   67  49   83  100  100   81   80  60  60   40  40   33  20   47   0   \n",
       "\n",
       "   digit  \n",
       "0      8  \n",
       "1      2  \n",
       "2      1  \n",
       "3      4  \n",
       "4      1  "
      ]
     },
     "execution_count": 9,
     "metadata": {},
     "output_type": "execute_result"
    }
   ],
   "source": [
    "tr_data = pd.read_csv('pendigitstra')\n",
    "ts_data = pd.read_csv('pendigitstes')\n",
    "tr_data.head()"
   ]
  },
  {
   "cell_type": "code",
   "execution_count": 33,
   "metadata": {},
   "outputs": [
    {
     "data": {
      "text/plain": [
       "array([[ 47, 100,  27, ...,  40,  98,   8],\n",
       "       [  0,  89,  27, ..., 100,   6,   2],\n",
       "       [  0,  57,  31, ...,  16,   0,   1],\n",
       "       ...,\n",
       "       [100,  98,  60, ...,   0,   5,   5],\n",
       "       [ 59,  65,  91, ..., 100,   0,   1],\n",
       "       [  0,  78,  29, ..., 100,  40,   7]])"
      ]
     },
     "execution_count": 33,
     "metadata": {},
     "output_type": "execute_result"
    }
   ],
   "source": [
    "tr=np.array(tr_data)\n",
    "ts=np.array(ts_data)\n",
    "tr"
   ]
  },
  {
   "cell_type": "markdown",
   "metadata": {},
   "source": [
    "### Task 1"
   ]
  },
  {
   "cell_type": "code",
   "execution_count": 38,
   "metadata": {},
   "outputs": [
    {
     "data": {
      "image/png": "[encoded data removed]",
      "text/plain": [
       "<Figure size 432x288 with 1 Axes>"
      ]
     },
     "metadata": {
      "needs_background": "light"
     },
     "output_type": "display_data"
    },
    {
     "data": {
      "image/png": "[encoded data removed]",
      "text/plain": [
       "<Figure size 432x288 with 1 Axes>"
      ]
     },
     "metadata": {
      "needs_background": "light"
     },
     "output_type": "display_data"
    },
    {
     "data": {
      "image/png": "[encoded data removed]",
      "text/plain": [
       "<Figure size 432x288 with 1 Axes>"
      ]
     },
     "metadata": {
      "needs_background": "light"
     },
     "output_type": "display_data"
    }
   ],
   "source": [
    "def sketch(arr):\n",
    "    digit_x=np.array([arr[i] for i in range(0,16,2)])\n",
    "    digit_y=np.array([arr[i] for i in range(1,16,2)])\n",
    "    digit_label=arr[16]\n",
    "    pl.scatter(digit_x,digit_y)\n",
    "    pl.plot(digit_x,digit_y)\n",
    "    pl.title('Digit:%i'%digit_label)\n",
    "    pl.show()\n",
    "    \n",
    "def sketchx(x):\n",
    "    i=random.randint(1,7000)\n",
    "    while(True):\n",
    "        if (tr[i][16]==x):\n",
    "            sketch(tr[i])\n",
    "            return\n",
    "        i+=1\n",
    "        \n",
    "sketchx(4)\n",
    "sketchx(0)\n",
    "sketchx(8)"
   ]
  },
  {
   "cell_type": "markdown",
   "metadata": {},
   "source": [
    "Note: different 4,0,8s are generated on each run\n",
    "\n",
    "### Task 2\n",
    "\n",
    "#### Training the model:"
   ]
  },
  {
   "cell_type": "code",
   "execution_count": 35,
   "metadata": {},
   "outputs": [
    {
     "name": "stderr",
     "output_type": "stream",
     "text": [
      "/tmp/ipykernel_303/2120424367.py:1: FutureWarning: In a future version of pandas all arguments of DataFrame.drop except for the argument 'labels' will be keyword-only.\n",
      "  tr_input=np.array(tr_data.drop(['digit'],1))\n",
      "/home/sanidhyas3s/anaconda3/envs/sanidhya/lib/python3.10/site-packages/sklearn/linear_model/_logistic.py:444: ConvergenceWarning: lbfgs failed to converge (status=1):\n",
      "STOP: TOTAL NO. of f AND g EVALUATIONS EXCEEDS LIMIT.\n",
      "\n",
      "Increase the number of iterations (max_iter) or scale the data as shown in:\n",
      "    https://scikit-learn.org/stable/modules/preprocessing.html\n",
      "Please also refer to the documentation for alternative solver options:\n",
      "    https://scikit-learn.org/stable/modules/linear_model.html#logistic-regression\n",
      "  n_iter_i = _check_optimize_result(\n"
     ]
    }
   ],
   "source": [
    "tr_input=np.array(tr_data.drop(['digit'],1))\n",
    "tr_label=np.array(tr_data['digit'])\n",
    "\n",
    "model=LR(max_iter=10**8).fit(tr_input,tr_label)"
   ]
  },
  {
   "cell_type": "code",
   "execution_count": 38,
   "metadata": {},
   "outputs": [
    {
     "name": "stdout",
     "output_type": "stream",
     "text": [
      "Accuracy on training data:  0.9713103816386442\n",
      "Accuracy on test data:  0.9271012006861064\n"
     ]
    },
    {
     "name": "stderr",
     "output_type": "stream",
     "text": [
      "/tmp/ipykernel_303/690477054.py:1: FutureWarning: In a future version of pandas all arguments of DataFrame.drop except for the argument 'labels' will be keyword-only.\n",
      "  ts_input=np.array(ts_data.drop(['digit'],1))\n"
     ]
    }
   ],
   "source": [
    "ts_input=np.array(ts_data.drop(['digit'],1))\n",
    "ts_label=np.array(ts_data['digit'])\n",
    "\n",
    "tr_pred_label=model.predict(tr_input)\n",
    "print('Accuracy on training data: ',acc(tr_label,tr_pred_label))\n",
    "ts_pred_label=model.predict(ts_input)\n",
    "print('Accuracy on test data: ',acc(ts_label,ts_pred_label))"
   ]
  },
  {
   "cell_type": "markdown",
   "metadata": {},
   "source": [
    "### Task 3"
   ]
  },
  {
   "cell_type": "code",
   "execution_count": 87,
   "metadata": {},
   "outputs": [],
   "source": [
    "class KNN:\n",
    "    def __init__(self,k):\n",
    "        self.k=k\n",
    "\n",
    "    def load(self,tr_data):\n",
    "        self.data=tr_data\n",
    "    \n",
    "    def distance(self,p1,p2):\n",
    "        saved=p2[-1]\n",
    "        p2[-1]=0\n",
    "        difference=np.absolute(p1-p2)\n",
    "        distance=np.zeros((len(difference),2))\n",
    "        for i in range(len(difference)):\n",
    "            for j in range(16):\n",
    "                distance[i][0]+=difference[i][j]\n",
    "            distance[i][1]=difference[i][-1]\n",
    "        p2[-1]=saved          \n",
    "        return distance\n",
    "    \n",
    "    def predict(self, test_pt):\n",
    "        dist_n_label=KNN.distance(self,self.data,test_pt).transpose()\n",
    "        counter=np.zeros((10))\n",
    "        for i in range(self.k):\n",
    "            counter[int(dist_n_label[1][np.argmin(dist_n_label[0])])]+=1\n",
    "            dist_n_label=np.delete(dist_n_label,np.argmin(dist_n_label[0]),1)\n",
    "        prediction=np.argmax(counter)\n",
    "        return prediction\n",
    "    \n",
    "    def accuracy(self,ts):\n",
    "        correct_count=0\n",
    "        for i in range(len(ts)):\n",
    "            correct_count+=(self.predict(ts[i])==ts[i][-1])\n",
    "        return correct_count/len(ts)\n",
    "\n",
    "    def __call__(self):\n",
    "        print('This is a KNN model with k set to',self.k,'.')"
   ]
  },
  {
   "cell_type": "markdown",
   "metadata": {},
   "source": [
    "Note: The above implementation of KNN is not generalisable and is made just to work for this dataset."
   ]
  },
  {
   "cell_type": "code",
   "execution_count": 88,
   "metadata": {},
   "outputs": [
    {
     "name": "stdout",
     "output_type": "stream",
     "text": [
      "This is a KNN model with k set to 1 .\n"
     ]
    }
   ],
   "source": [
    "knn1=KNN(1)\n",
    "knn1.load(tr) #to clarify tr is the np array burrowed from the previous task\n",
    "knn1()"
   ]
  },
  {
   "cell_type": "code",
   "execution_count": 89,
   "metadata": {},
   "outputs": [
    {
     "data": {
      "image/png": "[encoded data removed]",
      "text/plain": [
       "<Figure size 432x288 with 1 Axes>"
      ]
     },
     "metadata": {
      "needs_background": "light"
     },
     "output_type": "display_data"
    },
    {
     "name": "stdout",
     "output_type": "stream",
     "text": [
      "The digit predicted by the model:  3\n"
     ]
    }
   ],
   "source": [
    "sketch(ts[123])\n",
    "print(\"The digit predicted by the model: \",knn1.predict(ts[123]))"
   ]
  },
  {
   "cell_type": "code",
   "execution_count": 90,
   "metadata": {},
   "outputs": [
    {
     "name": "stdout",
     "output_type": "stream",
     "text": [
      "Accuracy on partial test data of model with k=1 is 0.98\n"
     ]
    }
   ],
   "source": [
    "'''since the running time for finding accuracy is quite high if we use the entire test data,\n",
    "we only use the first t samples for finding accuracy'''\n",
    "t=200\n",
    "print(\"Accuracy on partial test data of model with k=1 is\",knn1.accuracy(ts[:t]))"
   ]
  },
  {
   "cell_type": "markdown",
   "metadata": {},
   "source": [
    "### Task 4"
   ]
  },
  {
   "cell_type": "code",
   "execution_count": 93,
   "metadata": {},
   "outputs": [
    {
     "name": "stdout",
     "output_type": "stream",
     "text": [
      "This is a KNN model with k set to 1 .\n",
      "This is a KNN model with k set to 2 .\n",
      "This is a KNN model with k set to 3 .\n",
      "This is a KNN model with k set to 4 .\n",
      "This is a KNN model with k set to 5 .\n",
      "This is a KNN model with k set to 6 .\n",
      "This is a KNN model with k set to 7 .\n",
      "This is a KNN model with k set to 8 .\n",
      "This is a KNN model with k set to 9 .\n",
      "This is a KNN model with k set to 10 .\n"
     ]
    }
   ],
   "source": [
    "ks,accuracies = range(1,11),np.zeros(10)\n",
    "for i in range(1,11):\n",
    "    knni=KNN(i)\n",
    "    knni.load(tr)\n",
    "    knni()\n",
    "    accuracies[i-1]=knni.accuracy(ts[:t])"
   ]
  },
  {
   "cell_type": "code",
   "execution_count": 94,
   "metadata": {},
   "outputs": [
    {
     "data": {
      "image/png": "[encoded data removed]",
      "text/plain": [
       "<Figure size 432x288 with 1 Axes>"
      ]
     },
     "metadata": {
      "needs_background": "light"
     },
     "output_type": "display_data"
    }
   ],
   "source": [
    "pl.scatter(ks,accuracies)\n",
    "pl.plot(ks,accuracies)\n",
    "pl.xlabel(\"Value of \\\"k\\\"\")\n",
    "pl.ylabel(\"Test Accuracy\")\n",
    "pl.title(\"Accuracy v/s k\")\n",
    "pl.show()"
   ]
  },
  {
   "cell_type": "markdown",
   "metadata": {},
   "source": [
    "### Task 5\n",
    "\n",
    "> To decide the hyperparameteres using the test accuracy is not the best way. Why?\n",
    "\n",
    "To repeatedly tune the hyperparameters on the same test data is not the most ideal way for tuning hyperparameters, because the hyperparameters make the model somewhat overfit on the data, they were tuned on. We are basically be choosing the hyperparameters which perform the best on a specific dataset which might not generalise to other datasets.\n",
    "The better alternative is to use cross-validation."
   ]
  }
 ],
 "metadata": {
  "kernelspec": {
   "display_name": "Python 3.10.4 ('sanidhya')",
   "language": "python",
   "name": "python3"
  },
  "language_info": {
   "codemirror_mode": {
    "name": "ipython",
    "version": 3
   },
   "file_extension": ".py",
   "mimetype": "text/x-python",
   "name": "python",
   "nbconvert_exporter": "python",
   "pygments_lexer": "ipython3",
   "version": "3.10.4"
  },
  "vscode": {
   "interpreter": {
    "hash": "2bacc47fb30e79c416523fd6d38e12cf4db42b1b90ed599253bca3b88ca4ff8c"
   }
  }
 },
 "nbformat": 4,
 "nbformat_minor": 2
}
